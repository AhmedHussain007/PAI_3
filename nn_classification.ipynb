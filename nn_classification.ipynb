{
 "cells": [
  {
   "cell_type": "code",
   "execution_count": 22,
   "metadata": {},
   "outputs": [],
   "source": [
    "import torch\n",
    "import torchvision\n",
    "import numpy as np\n",
    "import torch.nn.functional as F\n",
    "from preprocessinganddata import ann_cparameters,load_classificationdata\n",
    "from torch.utils.data import TensorDataset,DataLoader"
   ]
  },
  {
   "cell_type": "code",
   "execution_count": 23,
   "metadata": {},
   "outputs": [],
   "source": [
    "X_train, y_train, X_val, X_test, y_val, y_test, num_classes = load_classificationdata()\n",
    "\n",
    "X_train_tensor = torch.tensor(X_train, dtype=torch.float32)\n",
    "y_train_tensor = torch.tensor(y_train, dtype=torch.float32)\n",
    "\n",
    "X_test = np.concatenate((X_val, X_test), axis=0)\n",
    "y_test = np.concatenate((y_val, y_test), axis=0)\n",
    "\n",
    "X_test_tensor = torch.tensor(X_test, dtype=torch.float32)\n",
    "y_test_tensor = torch.tensor(y_test, dtype=torch.float32)\n",
    "\n",
    "train_dataset = TensorDataset(X_train_tensor, y_train_tensor)\n",
    "test_dataset = TensorDataset(X_test_tensor, y_test_tensor)\n",
    "\n",
    "batch_size = 256\n",
    "train_loader = DataLoader(train_dataset, batch_size=batch_size, shuffle=True)\n",
    "test_loader = DataLoader(test_dataset, batch_size=batch_size, shuffle=False)\n"
   ]
  },
  {
   "cell_type": "code",
   "execution_count": 24,
   "metadata": {},
   "outputs": [],
   "source": [
    "class CustomNeuralNetwork(torch.nn.Module):\n",
    "    def __init__(self, layer_sizes):\n",
    "        super(CustomNeuralNetwork, self).__init__()\n",
    "        \n",
    "        # Initialize weights (W) and biases (b) for each layer\n",
    "        self.W = torch.nn.ParameterList()\n",
    "        self.b = torch.nn.ParameterList()\n",
    "        \n",
    "        for i in range(len(layer_sizes) - 1):\n",
    "            W_i = torch.nn.Parameter(torch.randn(layer_sizes[i], layer_sizes[i + 1]) * 0.01)\n",
    "            b_i = torch.nn.Parameter(torch.zeros(layer_sizes[i + 1]))\n",
    "            self.W.append(W_i)\n",
    "            self.b.append(b_i)\n",
    "        \n",
    "        for i in range(len(self.W)):\n",
    "            torch.nn.init.xavier_normal_(self.W[i])\n",
    "    def forward(self, x):\n",
    "        for i in range(len(self.W) - 1): \n",
    "            x = F.relu(torch.matmul(x, self.W[i]) + self.b[i])\n",
    "        \n",
    "        # Output layer (no activation function here as corss_entropy automatically apply softmax Okay)\n",
    "        x = torch.matmul(x, self.W[-1]) + self.b[-1]\n",
    "        return x\n",
    "    \n",
    "    def compute_loss(self, y_pred, y_true):\n",
    "        return F.cross_entropy(y_pred, y_true)\n"
   ]
  },
  {
   "cell_type": "code",
   "execution_count": 25,
   "metadata": {},
   "outputs": [],
   "source": [
    "def train_model(model, train_loader, epochs, learning_rate, optimizer_name='SGD', momentum=0.9):\n",
    "    optimizer_map = {\n",
    "        'SGD': torch.optim.SGD,\n",
    "        'Adam': torch.optim.Adam,\n",
    "        'RMSprop': torch.optim.RMSprop\n",
    "    }\n",
    "    \n",
    "    if optimizer_name not in optimizer_map:\n",
    "        raise ValueError(f\"Invalid optimizer name '{optimizer_name}'. Choose from {list(optimizer_map.keys())}\")\n",
    "    \n",
    "    if optimizer_name == 'SGD' or optimizer_name == 'RMSprop':\n",
    "        optimizer = optimizer_map[optimizer_name](model.parameters(), lr=learning_rate, momentum=momentum)\n",
    "    else:\n",
    "        optimizer = optimizer_map[optimizer_name](model.parameters(), lr=learning_rate)\n",
    "    \n",
    "    criterion = torch.nn.CrossEntropyLoss()\n",
    "    \n",
    "    for epoch in range(epochs):\n",
    "        total_loss = 0\n",
    "        for batch_idx, (x, y) in enumerate(train_loader):\n",
    "            model.train()\n",
    "            x = x.view(-1, 784)\n",
    "            y_pred = model(x)\n",
    "            loss = criterion(y_pred, y)\n",
    "            \n",
    "            optimizer.zero_grad() \n",
    "            loss.backward()\n",
    "            \n",
    "            optimizer.step()\n",
    "            \n",
    "            total_loss += loss.item()\n",
    "        \n",
    "    return model , (total_loss / len(train_loader))"
   ]
  },
  {
   "cell_type": "code",
   "execution_count": 26,
   "metadata": {},
   "outputs": [],
   "source": [
    "def grid_search(param_combinations , train_loader):\n",
    "    best_loss = float('inf')\n",
    "    best_config = None\n",
    "    best_model = None\n",
    "    for params in param_combinations:\n",
    "        model = CustomNeuralNetwork(layer_sizes=params['layer_configs'])\n",
    "        model , loss = train_model(model, train_loader, params['epochs'], params['learning_rates'], params['optimizers'])\n",
    "        if loss < best_loss:\n",
    "            best_loss = loss\n",
    "            best_config = (params['layer_configs'], params['learning_rates'], params['optimizers'])\n",
    "            best_model = model\n",
    "        print(f\"Layers: {params['layer_configs']}, LR: {params['learning_rates']}, Optimizer: {params['optimizers']}, Loss: {loss:.6f}\")\n",
    "\n",
    "    print(\"\\nBest Configuration:\")\n",
    "    print(f\"Layers: {best_config[0]}, Learning Rate: {best_config[1]}, Optimizer: {best_config[2]}\")\n",
    "    print(f\"Best Loss: {best_loss:.6f}\")\n",
    "    \n",
    "    return best_model, best_config"
   ]
  },
  {
   "cell_type": "code",
   "execution_count": 27,
   "metadata": {},
   "outputs": [],
   "source": [
    "from itertools import product\n",
    "\n",
    "param_grid = ann_cparameters()\n",
    "keys, values = zip(*param_grid.items())\n",
    "param_combinations = [dict(zip(keys, v)) for v in product(*values)]\n",
    "\n",
    "# best_model, best_config = grid_search(param_combinations , train_loader)"
   ]
  },
  {
   "cell_type": "markdown",
   "metadata": {},
   "source": [
    "***I got the paraemters used below using grid search i am passing it manually as i do not want to run the grid search again and again so check the readme file and apply the parameters manually.***"
   ]
  },
  {
   "cell_type": "code",
   "execution_count": 38,
   "metadata": {},
   "outputs": [
    {
     "name": "stdout",
     "output_type": "stream",
     "text": [
      "2.3567698154433208e-05\n"
     ]
    }
   ],
   "source": [
    "model = CustomNeuralNetwork(layer_sizes=[784, 100, 60, 40, 10])\n",
    "model , loss = train_model(model, train_loader, 50, 0.01 , 'Adam')\n",
    "print(loss)"
   ]
  },
  {
   "cell_type": "code",
   "execution_count": 39,
   "metadata": {},
   "outputs": [],
   "source": [
    "def calculate_accuracy(model, data_loader):\n",
    "    model.eval()\n",
    "    correct = 0\n",
    "    total = 0\n",
    "\n",
    "    with torch.no_grad():\n",
    "        for inputs, labels in data_loader:\n",
    "            inputs = inputs.view(inputs.size(0), -1) \n",
    "            outputs = model(inputs) \n",
    "            _, predicted = torch.max(outputs, dim=1)\n",
    "            \n",
    "            labels = torch.argmax(labels, dim=1)\n",
    "\n",
    "            total += labels.size(0)\n",
    "            correct += (predicted == labels).sum().item()\n",
    "    accuracy = 100 * correct / total \n",
    "    return accuracy\n"
   ]
  },
  {
   "cell_type": "code",
   "execution_count": 40,
   "metadata": {},
   "outputs": [
    {
     "name": "stdout",
     "output_type": "stream",
     "text": [
      "Training Accuracy: 100.00%\n",
      "Test Accuracy: 96.43%\n"
     ]
    }
   ],
   "source": [
    "train_accuracy = calculate_accuracy(model, train_loader)\n",
    "test_accuracy = calculate_accuracy(model, test_loader)\n",
    "\n",
    "print(f'Training Accuracy: {train_accuracy:.2f}%')\n",
    "print(f'Test Accuracy: {test_accuracy:.2f}%')"
   ]
  },
  {
   "cell_type": "code",
   "execution_count": 41,
   "metadata": {},
   "outputs": [
    {
     "name": "stdout",
     "output_type": "stream",
     "text": [
      "Model saved successfully!\n"
     ]
    }
   ],
   "source": [
    "torch.save(model.state_dict(), \"classification_model\")\n",
    "print(\"Model saved successfully!\")"
   ]
  },
  {
   "cell_type": "code",
   "execution_count": 42,
   "metadata": {},
   "outputs": [
    {
     "name": "stdout",
     "output_type": "stream",
     "text": [
      "Model Loaded\n"
     ]
    },
    {
     "name": "stderr",
     "output_type": "stream",
     "text": [
      "C:\\Users\\user\\AppData\\Local\\Temp\\ipykernel_9996\\4267423735.py:2: FutureWarning: You are using `torch.load` with `weights_only=False` (the current default value), which uses the default pickle module implicitly. It is possible to construct malicious pickle data which will execute arbitrary code during unpickling (See https://github.com/pytorch/pytorch/blob/main/SECURITY.md#untrusted-models for more details). In a future release, the default value for `weights_only` will be flipped to `True`. This limits the functions that could be executed during unpickling. Arbitrary objects will no longer be allowed to be loaded via this mode unless they are explicitly allowlisted by the user via `torch.serialization.add_safe_globals`. We recommend you start setting `weights_only=True` for any use case where you don't have full control of the loaded file. Please open an issue on GitHub for any issues related to this experimental feature.\n",
      "  model.load_state_dict(torch.load(\"classification_model\"))\n"
     ]
    }
   ],
   "source": [
    "loaded_model = CustomNeuralNetwork([784, 120, 100, 60, 40, 10])\n",
    "model.load_state_dict(torch.load(\"classification_model\"))\n",
    "model.eval()\n",
    "print(\"Model Loaded\")"
   ]
  },
  {
   "cell_type": "code",
   "execution_count": 43,
   "metadata": {},
   "outputs": [
    {
     "name": "stdout",
     "output_type": "stream",
     "text": [
      "Training Data output\n"
     ]
    },
    {
     "data": {
      "image/png": "[encoded data removed]",
      "text/plain": [
       "<Figure size 1500x500 with 20 Axes>"
      ]
     },
     "metadata": {},
     "output_type": "display_data"
    }
   ],
   "source": [
    "import matplotlib.pyplot as plt\n",
    "\n",
    "# Evaluate model on test data and show actual vs predicted outputs\n",
    "model.eval()  # Set model to evaluation mode\n",
    "data_iter = iter(train_loader)\n",
    "images, labels = next(data_iter)\n",
    "\n",
    "# Check if labels are one-hot encoded\n",
    "if labels.ndimension() > 1:\n",
    "    # If labels are one-hot encoded, convert to class indices\n",
    "    labels = torch.argmax(labels, dim=1)\n",
    "\n",
    "# Predict\n",
    "images_flat = images.view(-1, 28 * 28)  # Flatten the images for the model input\n",
    "outputs = model(images_flat)\n",
    "_, predicted = torch.max(outputs, 1)\n",
    "\n",
    "fig = plt.figure(figsize=(15, 5))  # Adjust figsize to better visualize images\n",
    "for i in range(10):\n",
    "    # Plot true labels\n",
    "    plt.subplot(2, 10, i+1)\n",
    "    plt.imshow(images[i].numpy().reshape(28, 28), cmap='gray')\n",
    "    plt.title(f\"True: {labels[i].item()}\")  # Ensure labels[i] is a scalar class index\n",
    "    plt.axis('off')\n",
    "    \n",
    "    # Plot predicted labels\n",
    "    plt.subplot(2, 10, i+11)\n",
    "    plt.imshow(images[i].numpy().reshape(28, 28), cmap='gray')\n",
    "    plt.title(f\"Pred: {predicted[i].item()}\")  # Ensure predicted[i] is a scalar class index\n",
    "    plt.axis('off')\n",
    "\n",
    "print(\"Training Data output\")\n",
    "plt.show()\n"
   ]
  },
  {
   "cell_type": "code",
   "execution_count": 44,
   "metadata": {},
   "outputs": [
    {
     "name": "stdout",
     "output_type": "stream",
     "text": [
      "Testing Data output\n"
     ]
    },
    {
     "data": {
      "image/png": "[encoded data removed]",
      "text/plain": [
       "<Figure size 1500x500 with 20 Axes>"
      ]
     },
     "metadata": {},
     "output_type": "display_data"
    }
   ],
   "source": [
    "import matplotlib.pyplot as plt\n",
    "\n",
    "# Evaluate model on test data and show actual vs predicted outputs\n",
    "model.eval()  # Set model to evaluation mode\n",
    "data_iter = iter(test_loader)\n",
    "images, labels = next(data_iter)\n",
    "\n",
    "# Check if labels are one-hot encoded\n",
    "if labels.ndimension() > 1:\n",
    "    # If labels are one-hot encoded, convert to class indices\n",
    "    labels = torch.argmax(labels, dim=1)\n",
    "\n",
    "# Predict\n",
    "images_flat = images.view(-1, 28 * 28)  # Flatten the images for the model input\n",
    "outputs = model(images_flat)\n",
    "_, predicted = torch.max(outputs, 1)\n",
    "\n",
    "# Create a figure to display the images\n",
    "fig = plt.figure(figsize=(15, 5))  # Adjust figsize to better visualize images\n",
    "for i in range(10):\n",
    "    # Plot true labels\n",
    "    plt.subplot(2, 10, i + 1)\n",
    "    plt.imshow(images[i].numpy().reshape(28, 28), cmap='gray')\n",
    "    plt.title(f\"True: {labels[i].item()}\")  # Ensure labels[i] is a scalar class index\n",
    "    plt.axis('off')\n",
    "    \n",
    "    # Plot predicted labels\n",
    "    plt.subplot(2, 10, i + 11)\n",
    "    plt.imshow(images[i].numpy().reshape(28, 28), cmap='gray')\n",
    "    plt.title(f\"Pred: {predicted[i].item()}\")  # Ensure predicted[i] is a scalar class index\n",
    "    plt.axis('off')\n",
    "\n",
    "# Show output\n",
    "print(\"Testing Data output\")\n",
    "plt.show()"
   ]
  }
 ],
 "metadata": {
  "kernelspec": {
   "display_name": "deeplearning",
   "language": "python",
   "name": "python3"
  },
  "language_info": {
   "codemirror_mode": {
    "name": "ipython",
    "version": 3
   },
   "file_extension": ".py",
   "mimetype": "text/x-python",
   "name": "python",
   "nbconvert_exporter": "python",
   "pygments_lexer": "ipython3",
   "version": "3.8.20"
  }
 },
 "nbformat": 4,
 "nbformat_minor": 2
}
